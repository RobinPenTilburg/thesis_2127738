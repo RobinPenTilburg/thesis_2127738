{
  "cells": [
    {
      "cell_type": "code",
      "execution_count": null,
      "metadata": {
        "colab": {
          "base_uri": "https://localhost:8080/"
        },
        "id": "s-v8w8HmaV2K",
        "outputId": "7540a5d2-d7e9-4fc2-dbd7-8f6ee2376c3f"
      },
      "outputs": [
        {
          "name": "stdout",
          "output_type": "stream",
          "text": [
            "Requirement already satisfied: pyspark in /usr/local/lib/python3.10/dist-packages (3.5.3)\n",
            "Requirement already satisfied: py4j==0.10.9.7 in /usr/local/lib/python3.10/dist-packages (from pyspark) (0.10.9.7)\n",
            "Collecting findspark\n",
            "  Downloading findspark-2.0.1-py2.py3-none-any.whl.metadata (352 bytes)\n",
            "Downloading findspark-2.0.1-py2.py3-none-any.whl (4.4 kB)\n",
            "Installing collected packages: findspark\n",
            "Successfully installed findspark-2.0.1\n"
          ]
        }
      ],
      "source": [
        "#Install libraries\n",
        "!pip install pyspark\n",
        "!pip install findspark\n",
        " # Import Spark and FindSpark\n",
        "import findspark\n",
        "findspark.init()\n",
        "from pyspark.sql import SparkSession\n",
        "# Create Spark session\n",
        "spark = SparkSession.builder.master('local[*]').appName('Basics').getOrCreate()\n",
        "# Configuration that makes the format of tables clean\n",
        "spark.conf.set(\"spark.sql.repl.eagerEval.enabled\", True)\n",
        "#Import libraries\n",
        "from pyspark import SparkConf\n",
        "from pyspark.context import SparkContext\n",
        "# Create SparkContext due to the use of RDD's\n",
        "sc = SparkContext.getOrCreate(SparkConf().setMaster(\"local[*]\"))\n"
      ]
    },
    {
      "cell_type": "code",
      "execution_count": null,
      "metadata": {
        "colab": {
          "base_uri": "https://localhost:8080/"
        },
        "id": "M52APPEM4nAj",
        "outputId": "7eba3020-6f9d-4b8a-b28a-a77be1c54070"
      },
      "outputs": [
        {
          "name": "stdout",
          "output_type": "stream",
          "text": [
            "Drive already mounted at /content/drive; to attempt to forcibly remount, call drive.mount(\"/content/drive\", force_remount=True).\n"
          ]
        }
      ],
      "source": [
        "from google.colab import drive\n",
        "drive.mount('/content/drive')"
      ]
    },
    {
      "cell_type": "code",
      "execution_count": null,
      "metadata": {
        "colab": {
          "base_uri": "https://localhost:8080/"
        },
        "id": "SJARiu0MgvEE",
        "outputId": "ba966c6f-8fbc-4123-95cc-039e4c0b542a"
      },
      "outputs": [
        {
          "name": "stdout",
          "output_type": "stream",
          "text": [
            "+-----+-------+-----+---------+--------+---------+---------+---------+---------+----------+----------+----------+----------+----------+----------+-----------+---------------+-----------+-----------+-----------+\n",
            "|DogID|TestNum|t_sec|  ABack_x| ABack_y|  ABack_z|  ANeck_x|  ANeck_y|  ANeck_z|   GBack_x|   GBack_y|   GBack_z|   GNeck_x|   GNeck_y|   GNeck_z|       Task|     Behavior_1| Behavior_2| Behavior_3| PointEvent|\n",
            "+-----+-------+-----+---------+--------+---------+---------+---------+---------+----------+----------+----------+----------+----------+----------+-----------+---------------+-----------+-----------+-----------+\n",
            "|   16|      1|    0| 0.041504|0.938965|-0.015137|-0.067871|-0.510254| -0.93457|-17.639161|-22.766115|   7.44629| -7.934571|  6.347657| 13.427735|<undefined>|    <undefined>|<undefined>|<undefined>|<undefined>|\n",
            "|   16|      1| 0.01| 0.041992|0.941895| -0.02002|-0.128906|-0.494141|-0.913086|-15.075685|-11.413575|  4.821778|  -3.90625|  4.394532| 16.540528|<undefined>|Synchronization|<undefined>|<undefined>|<undefined>|\n",
            "|   16|      1| 0.02| 0.040527|0.939453|-0.004395|-0.158691|-0.480469|-0.911133|-12.207032|  -0.12207|  2.807617| -0.488281| -1.953125| 26.794435|<undefined>|Synchronization|<undefined>|<undefined>|<undefined>|\n",
            "|   16|      1| 0.03| 0.021484|0.946289| 0.007813| -0.12207|-0.486816|-0.880371|  -9.46045|  7.995606|  1.586914|  1.159668|  -5.67627|  38.08594|<undefined>|Synchronization|<undefined>|<undefined>|<undefined>|\n",
            "|   16|      1| 0.04|-0.000977|0.951172| 0.033691|-0.053711|     -0.5|-0.807129| -8.361817| 14.587403| -1.037598|  4.577637|  4.089356| 41.503909|<undefined>|Synchronization|<undefined>|<undefined>|<undefined>|\n",
            "|   16|      1| 0.05|-0.006348|0.955078| 0.038574| 0.019043|-0.463867|-0.749023| -9.826661| 19.653322| -5.493164| 12.939454|  20.81299|  32.53174|<undefined>|Synchronization|<undefined>|<undefined>|<undefined>|\n",
            "|   16|      1| 0.06| 0.001953|0.959473| 0.035156| 0.045898|-0.376953| -0.78125|-11.657716| 15.869142| -7.751465|  22.70508| 29.968264| 14.038087|<undefined>|Synchronization|<undefined>|<undefined>|<undefined>|\n",
            "|   16|      1| 0.07| 0.013672|0.958984| 0.030273| 0.028809|-0.307617|-0.941406|-13.671876|  5.859375| -8.361817| 23.925783| 19.470216| -5.920411|<undefined>|Synchronization|<undefined>|<undefined>|<undefined>|\n",
            "|   16|      1| 0.08|  0.02832|0.941895|  0.04541|-0.014648|-0.349121|-1.100098|-16.113282| -1.220703| -8.483887| 12.084962| -8.300782|-20.202638|<undefined>|Synchronization|<undefined>|<undefined>|<undefined>|\n",
            "|   16|      1| 0.09| 0.028809|0.934082|  0.06543|-0.061035|-0.480469|-1.129395|-18.859864| -0.183105|   -7.8125| -3.845215|-37.475588|-24.475099|<undefined>|Synchronization|<undefined>|<undefined>|<undefined>|\n",
            "|   16|      1|  0.1|  0.03125|0.932617| 0.061523|-0.086426|-0.598633|-1.083008|-22.155763|   7.56836| -8.789063|-10.681153|-42.968753|-20.324708|<undefined>|Synchronization|<undefined>|<undefined>|<undefined>|\n",
            "|   16|      1| 0.11| 0.022461|0.950684| 0.045898|-0.086914|-0.634766|-0.996094|-24.230959| 12.145997|-10.009766|  -3.90625|-30.700685|-13.122559|<undefined>|Synchronization|<undefined>|<undefined>|<undefined>|\n",
            "|   16|      1| 0.12| 0.012207|0.980957| 0.030273|-0.071289|-0.599609|-0.931152|-22.094728|  7.934571|-11.169434|  6.225586| -5.187989| -7.507325|<undefined>|Synchronization|<undefined>|<undefined>|<undefined>|\n",
            "|   16|      1| 0.13|-0.011719|1.030273| 0.016113|-0.101074| -0.54248|-0.925293|-17.211915| -0.427246|-13.427735| 10.620118| 11.962891| -4.943848|<undefined>|Synchronization|<undefined>|<undefined>|<undefined>|\n",
            "|   16|      1| 0.14|-0.049805|1.101563|-0.004883|-0.112793|-0.501465| -0.91748|-11.840821| -6.713868|-15.869142|  9.765626|  5.859375| -3.723145|<undefined>|Synchronization|<undefined>|<undefined>|<undefined>|\n",
            "|   16|      1| 0.15|-0.062012|1.206543|-0.023926|-0.087891| -0.48584|-0.919922| -7.629395| -5.737305|-20.446779|  7.324219| -2.319336| -6.835938|<undefined>|Synchronization|<undefined>|<undefined>|<undefined>|\n",
            "|   16|      1| 0.16|-0.062012|1.338379|-0.082031|-0.075195| -0.46875|-0.929199| -0.305176| -2.990723|-27.954103|  8.850098| -2.746582|-13.854981|<undefined>|Synchronization|<undefined>|<undefined>|<undefined>|\n",
            "|   16|      1| 0.17|-0.003418|1.433594|-0.068848|-0.078125|-0.444824|-0.922363| 10.314942| -4.760742| -34.42383| 12.756348| -1.831055|-20.202638|<undefined>|Synchronization|<undefined>|<undefined>|<undefined>|\n",
            "|   16|      1| 0.18|  0.05127|1.542969|-0.080078|-0.070313| -0.44043|-0.885742| 27.465822|-14.343263|-34.973147| 13.671876| -4.150391|-21.423341|<undefined>|Synchronization|<undefined>|<undefined>|<undefined>|\n",
            "|   16|      1| 0.19| 0.112793|1.642578|-0.057617|-0.054199|-0.432617|-0.860352| 45.593265|-26.123048|-27.526857| 13.549806| -3.295899|-17.822267|<undefined>|Synchronization|<undefined>|<undefined>|<undefined>|\n",
            "+-----+-------+-----+---------+--------+---------+---------+---------+---------+----------+----------+----------+----------+----------+----------+-----------+---------------+-----------+-----------+-----------+\n",
            "only showing top 20 rows\n",
            "\n"
          ]
        }
      ],
      "source": [
        "# Import Data\n",
        "path = \"/content/drive/MyDrive/Thesis/Kopie van DogMoveData.csv\"\n",
        "data = spark.read.csv(path, header=True)\n",
        "data.show()"
      ]
    },
    {
      "cell_type": "code",
      "execution_count": null,
      "metadata": {
        "id": "Vucmc0im2dJf"
      },
      "outputs": [],
      "source": [
        "from pyspark.sql.functions import concat, col\n",
        "\n",
        "# Use only the features corresponding to the back sensors\n",
        "data_back = data.select(\"DogID\", \"TestNum\", \"t_sec\", \"ABack_x\", \"ABack_y\", \"ABack_z\", \"GBack_x\", \"GBack_y\", \"Gback_z\", \"Behavior_1\", \"Behavior_2\", \"Behavior_3\")\n",
        "# Add key to identify instances that correspond the a particular Dog and Testnumber\n",
        "data_back = data_back.withColumn(\"Groupkey\", concat(col(\"DogID\"), col(\"TestNum\")))"
      ]
    },
    {
      "cell_type": "code",
      "execution_count": null,
      "metadata": {
        "id": "NilySdNixCPw"
      },
      "outputs": [],
      "source": [
        "#mean of each sensor at standing behavior for positional offset\n",
        "\n",
        "# Create DataFrame with only the Standing behavior\n",
        "df_only_standing = data.filter((data[\"Behavior_1\"] == \"Standing\") & (data['Behavior_2'] == \"<undefined>\") & (data[\"Behavior_3\"] == \"<undefined>\"))\n",
        "# Create DataFrame with various statistics (including the mean)\n",
        "describe_statistics = df_only_standing.describe()\n",
        "# Select for each feature the mean feature of the DataFrame\n",
        "standing_mean_ABack_x = float(describe_statistics.filter(describe_statistics[\"summary\"] == \"mean\").select(\"ABack_x\").collect()[0][0])\n",
        "standing_mean_ABack_y = float(describe_statistics.filter(describe_statistics[\"summary\"] == \"mean\").select(\"ABack_y\").collect()[0][0])\n",
        "standing_mean_ABack_z = float(describe_statistics.filter(describe_statistics[\"summary\"] == \"mean\").select(\"ABack_z\").collect()[0][0])\n",
        "standing_mean_GBack_x = float(describe_statistics.filter(describe_statistics[\"summary\"] == \"mean\").select(\"GBack_x\").collect()[0][0])\n",
        "standing_mean_GBack_y = float(describe_statistics.filter(describe_statistics[\"summary\"] == \"mean\").select(\"GBack_y\").collect()[0][0])\n",
        "standing_mean_GBack_z = float(describe_statistics.filter(describe_statistics[\"summary\"] == \"mean\").select(\"GBack_z\").collect()[0][0])\n",
        "standing_mean_ANeck_x = float(describe_statistics.filter(describe_statistics[\"summary\"] == \"mean\").select(\"ANeck_x\").collect()[0][0])\n",
        "standing_mean_ANeck_y = float(describe_statistics.filter(describe_statistics[\"summary\"] == \"mean\").select(\"ANeck_y\").collect()[0][0])\n",
        "standing_mean_ANeck_z = float(describe_statistics.filter(describe_statistics[\"summary\"] == \"mean\").select(\"ANeck_z\").collect()[0][0])\n",
        "standing_mean_GNeck_x = float(describe_statistics.filter(describe_statistics[\"summary\"] == \"mean\").select(\"GNeck_x\").collect()[0][0])\n",
        "standing_mean_GNeck_y = float(describe_statistics.filter(describe_statistics[\"summary\"] == \"mean\").select(\"GNeck_y\").collect()[0][0])\n",
        "standing_mean_GNeck_z = float(describe_statistics.filter(describe_statistics[\"summary\"] == \"mean\").select(\"GNeck_z\").collect()[0][0])\n"
      ]
    },
    {
      "cell_type": "code",
      "source": [
        "# All of the functions used in the segmentation of Back data\n",
        "\n",
        "# Segmentation function\n",
        "def segmentate(instances, window_size, step_size):\n",
        "    # A list is created with all of the instances from a particalar group\n",
        "    instances_list = list(instances)\n",
        "    # An empty list is created\n",
        "    segments = []\n",
        "    # Segmentate the instances list and add each segment to the segment list\n",
        "    for i in range(0, len(instances) - window_size + 1, step_size):\n",
        "        segment = instances_list[i:i + window_size]\n",
        "        segments.append(segment)\n",
        "    return segments\n",
        "\n",
        "# Function to extrapolate the cumulative distribution\n",
        "def extrapolate(data_feature, p_values):\n",
        "    # Sort the data from the feature\n",
        "    data_feature_sorted = np.sort(data_feature)\n",
        "    # Create a cumulative distribution\n",
        "    cum_distribution = np.arange(1, len(data_feature_sorted) + 1) / len(data_feature_sorted)\n",
        "    # this function traces a line through the data using the cumulative distribution\n",
        "    extrapolator = interp1d(cum_distribution, data_feature_sorted, fill_value=\"extrapolate\")\n",
        "    # Extract the values of the line of the different p-values\n",
        "    return extrapolator(p_values)\n",
        "\n",
        "# Function to calculate all of new features\n",
        "def calculate_features(segment):\n",
        "    # Create for each feature new lists based on the data from the segments\n",
        "    behavior_1 = [x[9] for x in segment]\n",
        "    behavior_2 = [x[10] for x in segment]\n",
        "    behavior_3 = [x[11] for x in segment]\n",
        "    ABack_x = [float(x[3]) for x in segment]\n",
        "    ABack_y = [float(x[4]) for x in segment]\n",
        "    ABack_z = [float(x[5]) for x in segment]\n",
        "    GBack_x = [float(x[6]) for x in segment]\n",
        "    GBack_y = [float(x[7]) for x in segment]\n",
        "    GBack_z = [float(x[8]) for x in segment]\n",
        "\n",
        "    # Calulate the mean\n",
        "    mean_ABack_x = float(np.mean(ABack_x))\n",
        "    mean_ABack_y = float(np.mean(ABack_y))\n",
        "    mean_ABack_z = float(np.mean(ABack_z))\n",
        "    mean_GBack_x = float(np.mean(GBack_x))\n",
        "    mean_GBack_y = float(np.mean(GBack_y))\n",
        "    mean_GBack_z = float(np.mean(GBack_z))\n",
        "\n",
        "    # Calculate the positional offset based on standing behavior\n",
        "    positional_offset_ABack = float(np.sqrt((mean_ABack_x - standing_mean_ABack_x) ** 2 + (mean_ABack_y - standing_mean_ABack_y) ** 2 + (mean_ABack_z - standing_mean_ABack_z) ** 2))\n",
        "    positional_offset_GBack = float(np.sqrt((mean_GBack_x - standing_mean_GBack_x) ** 2 + (mean_GBack_y - standing_mean_GBack_y) ** 2 + (mean_GBack_z - standing_mean_GBack_z) ** 2))\n",
        "\n",
        "    #Calculate thesum of standard deviation\n",
        "    sum_std_dev_ABack = float(np.std(ABack_x)) + float(np.std(ABack_y)) + float(np.std(ABack_z))\n",
        "    sum_std_dev_GBack = float(np.std(GBack_x)) + float(np.std(GBack_y)) + float(np.std(GBack_z))\n",
        "\n",
        "    # Calculate the sum of mean crossings\n",
        "    mean_crossings_ABack_x = len(np.where(np.diff(np.sign(ABack_x - np.mean(ABack_x))))[0])\n",
        "    mean_crossings_ABack_y = len(np.where(np.diff(np.sign(ABack_y - np.mean(ABack_y))))[0])\n",
        "    mean_crossings_ABack_z = len(np.where(np.diff(np.sign(ABack_z - np.mean(ABack_z))))[0])\n",
        "    total_mean_crossings_ABack = mean_crossings_ABack_x + mean_crossings_ABack_y + mean_crossings_ABack_z\n",
        "\n",
        "    mean_crossings_GBack_x = len(np.where(np.diff(np.sign(GBack_x - np.mean(GBack_x))))[0])\n",
        "    mean_crossings_GBack_y = len(np.where(np.diff(np.sign(GBack_y - np.mean(GBack_y))))[0])\n",
        "    mean_crossings_GBack_z = len(np.where(np.diff(np.sign(GBack_z - np.mean(GBack_z))))[0])\n",
        "    total_mean_crossings_GBack = mean_crossings_GBack_x + mean_crossings_GBack_y + mean_crossings_GBack_z\n",
        "\n",
        "    #Calculate the ECDF\n",
        "    # Devide the range 0 to 1 in 7 points\n",
        "    p_values = np.linspace(0, 1, 9)[1:-1]\n",
        "    # Calculate the ECDF using the function\n",
        "    ecdf_ABack_x = extrapolate(ABack_x, p_values)\n",
        "    ecdf_ABack_y = extrapolate(ABack_y, p_values)\n",
        "    ecdf_ABack_z = extrapolate(ABack_z, p_values)\n",
        "    # Convert all values to floats\n",
        "    ecdf_ABack_x = [float(x) for x in ecdf_ABack_x]\n",
        "    ecdf_ABack_y = [float(x) for x in ecdf_ABack_y]\n",
        "    ecdf_ABack_z = [float(x) for x in ecdf_ABack_z]\n",
        "    # Convert list to 7 individual features\n",
        "    ecdf_ABack_x_1, ecdf_ABack_x_2, ecdf_ABack_x_3, ecdf_ABack_x_4, ecdf_ABack_x_5, ecdf_ABack_x_6, ecdf_ABack_x_7 = ecdf_ABack_x\n",
        "    ecdf_ABack_y_1, ecdf_ABack_y_2, ecdf_ABack_y_3, ecdf_ABack_y_4, ecdf_ABack_y_5, ecdf_ABack_y_6, ecdf_ABack_y_7 = ecdf_ABack_y\n",
        "    ecdf_ABack_z_1, ecdf_ABack_z_2, ecdf_ABack_z_3, ecdf_ABack_z_4, ecdf_ABack_z_5, ecdf_ABack_z_6, ecdf_ABack_z_7 = ecdf_ABack_z\n",
        "\n",
        "    # Calculate the ECDF using the function\n",
        "    ecdf_GBack_x = extrapolate(GBack_x, p_values)\n",
        "    ecdf_GBack_y = extrapolate(GBack_y, p_values)\n",
        "    ecdf_GBack_z = extrapolate(GBack_z, p_values)\n",
        "    # Convert all values to floats\n",
        "    ecdf_GBack_x = [float(x) for x in ecdf_GBack_x]\n",
        "    ecdf_GBack_y = [float(x) for x in ecdf_GBack_y]\n",
        "    ecdf_GBack_z = [float(x) for x in ecdf_GBack_z]\n",
        "    # Convert list to 7 individual features\n",
        "    ecdf_GBack_x_1, ecdf_GBack_x_2, ecdf_GBack_x_3, ecdf_GBack_x_4, ecdf_GBack_x_5, ecdf_GBack_x_6, ecdf_GBack_x_7 = ecdf_GBack_x\n",
        "    ecdf_GBack_y_1, ecdf_GBack_y_2, ecdf_GBack_y_3, ecdf_GBack_y_4, ecdf_GBack_y_5, ecdf_GBack_y_6, ecdf_GBack_y_7 = ecdf_GBack_y\n",
        "    ecdf_GBack_z_1, ecdf_GBack_z_2, ecdf_GBack_z_3, ecdf_GBack_z_4, ecdf_GBack_z_5, ecdf_GBack_z_6, ecdf_GBack_z_7 = ecdf_GBack_z\n",
        "\n",
        "    # Extract the dominant behavior\n",
        "    # The unique behaviors of each feature are counted, the behavior has the most occurences is returned\n",
        "    dominant_behavior_1 = max(set(behavior_1), key=behavior_1.count)\n",
        "    dominant_behavior_2 = max(set(behavior_2), key=behavior_2.count)\n",
        "    dominant_behavior_3 = max(set(behavior_3), key=behavior_3.count)\n",
        "    return mean_ABack_x, mean_ABack_y, mean_ABack_z, mean_GBack_x, mean_GBack_y, mean_GBack_z, positional_offset_ABack, positional_offset_GBack, sum_std_dev_ABack, sum_std_dev_GBack, total_mean_crossings_ABack, total_mean_crossings_GBack, ecdf_ABack_x_1, ecdf_ABack_x_2, ecdf_ABack_x_3, ecdf_ABack_x_4, ecdf_ABack_x_5, ecdf_ABack_x_6, ecdf_ABack_x_7, ecdf_ABack_y_1, ecdf_ABack_y_2, ecdf_ABack_y_3, ecdf_ABack_y_4, ecdf_ABack_y_5, ecdf_ABack_y_6, ecdf_ABack_y_7, ecdf_ABack_z_1, ecdf_ABack_z_2, ecdf_ABack_z_3, ecdf_ABack_z_4, ecdf_ABack_z_5, ecdf_ABack_z_6, ecdf_ABack_z_7, ecdf_GBack_x_1, ecdf_GBack_x_2, ecdf_GBack_x_3, ecdf_GBack_x_4, ecdf_GBack_x_5, ecdf_GBack_x_6, ecdf_GBack_x_7, ecdf_GBack_y_1, ecdf_GBack_y_2, ecdf_GBack_y_3, ecdf_GBack_y_4, ecdf_GBack_y_5, ecdf_GBack_y_6, ecdf_GBack_y_7, ecdf_GBack_z_1, ecdf_GBack_z_2, ecdf_GBack_z_3, ecdf_GBack_z_4, ecdf_GBack_z_5, ecdf_GBack_z_6, ecdf_GBack_z_7, dominant_behavior_1, dominant_behavior_2, dominant_behavior_3\n",
        "\n",
        "# Function that combines all of the functions\n",
        "def key_segments(group):\n",
        "    key, instances = group\n",
        "    # The rows of each group are segmentated\n",
        "    segments = segmentate(instances, window_size, step_size)\n",
        "\n",
        "    # Create an empty list\n",
        "    result = []\n",
        "    # For each segment, the features are calculated and added to that list\n",
        "    for segment in segments:\n",
        "        features = calculate_features(segment)\n",
        "        result.append((key,) + features)\n",
        "    return result"
      ],
      "metadata": {
        "id": "a98n9VUflVGL"
      },
      "execution_count": null,
      "outputs": []
    },
    {
      "cell_type": "code",
      "execution_count": null,
      "metadata": {
        "colab": {
          "base_uri": "https://localhost:8080/"
        },
        "id": "iV4DLDDDhtZz",
        "outputId": "a5c4d6a7-eaca-4fcd-c136-1efc9a60cfe3"
      },
      "outputs": [
        {
          "name": "stdout",
          "output_type": "stream",
          "text": [
            "+---+--------------------+--------------------+-------------------+--------------------+--------------------+-------------------+-----------------------+-----------------------+--------------------+------------------+--------------------------+--------------------------+--------------+--------------------+--------------+--------------+--------------+--------------+--------------+--------------+--------------+--------------+--------------+--------------------+--------------+--------------+--------------+--------------+--------------+--------------+--------------+--------------+--------------+--------------+--------------+--------------+--------------+-------------------+--------------+--------------+--------------+--------------+--------------+--------------+--------------------+--------------+--------------+--------------+--------------+--------------+--------------+--------------+--------------+--------------+-------------------+-------------------+-------------------+\n",
            "| ID|        mean_ABack_x|        mean_ABack_y|       mean_ABack_z|        mean_GBack_x|        mean_GBack_y|       mean_GBack_z|positional_offset_ABack|positional_offset_GBack|   sum_std_dev_ABack| sum_std_dev_GBack|total_mean_crossings_ABack|total_mean_crossings_GBack|ecdf_ABack_x_1|      ecdf_ABack_x_2|ecdf_ABack_x_3|ecdf_ABack_x_4|ecdf_ABack_x_5|ecdf_ABack_x_6|ecdf_ABack_x_7|ecdf_ABack_y_1|ecdf_ABack_y_2|ecdf_ABack_y_3|ecdf_ABack_y_4|      ecdf_ABack_y_5|ecdf_ABack_y_6|ecdf_ABack_y_7|ecdf_ABack_z_1|ecdf_ABack_z_2|ecdf_ABack_z_3|ecdf_ABack_z_4|ecdf_ABack_z_5|ecdf_ABack_z_6|ecdf_ABack_z_7|ecdf_GBack_x_1|ecdf_GBack_x_2|ecdf_GBack_x_3|ecdf_GBack_x_4|     ecdf_GBack_x_5|ecdf_GBack_x_6|ecdf_GBack_x_7|ecdf_GBack_y_1|ecdf_GBack_y_2|ecdf_GBack_y_3|ecdf_GBack_y_4|      ecdf_GBack_y_5|ecdf_GBack_y_6|ecdf_GBack_y_7|ecdf_GBack_z_1|ecdf_GBack_z_2|ecdf_GBack_z_3|ecdf_GBack_z_4|ecdf_GBack_z_5|ecdf_GBack_z_6|ecdf_GBack_z_7|dominant_behavior_1|dominant_behavior_2|dominant_behavior_3|\n",
            "+---+--------------------+--------------------+-------------------+--------------------+--------------------+-------------------+-----------------------+-----------------------+--------------------+------------------+--------------------------+--------------------------+--------------+--------------------+--------------+--------------+--------------+--------------+--------------+--------------+--------------+--------------+--------------+--------------------+--------------+--------------+--------------+--------------+--------------+--------------+--------------+--------------+--------------+--------------+--------------+--------------+--------------+-------------------+--------------+--------------+--------------+--------------+--------------+--------------+--------------------+--------------+--------------+--------------+--------------+--------------+--------------+--------------+--------------+--------------+-------------------+-------------------+-------------------+\n",
            "|281|        -0.103813445|          0.79304443|        0.223488775|   8.643799359999997|        -10.44494696|  3.504333690000001|       1.26454849660076|     13.699588312389384|   2.901886466314698|282.57191997323207|                        37|                        44|     -0.623047|           -0.223633|     -0.129395|     -0.035156|      0.035156|       0.12207|      0.292969|      -1.18457|      0.091797|      0.267578|      0.504395|            0.913574|      1.239258|      2.711914|     -0.373047|     -0.115723|      0.027832|      0.158691|      0.276855|      0.349609|      0.544922|   -201.110852|    -34.790041|     20.141603|     46.813968|          76.538091|    104.553229|    121.826179|    -63.781742|    -36.804201|    -23.376466|      -9.58252|            -0.12207|      5.432129|     20.996095|    -80.871587|    -16.662599|     -8.361817|      6.530762|     35.156252|     66.345219|    103.332526|    Synchronization|        <undefined>|        <undefined>|\n",
            "|281|-0.11278560500000001|  0.9410888850000001|0.29928711500000005|       -11.989746835| -0.2212524900000001|        -1.64367686|     1.3511782587659569|      11.85861540327885|   3.152475835319003|315.42346967459355|                        38|                        52|     -0.891602|           -0.310059|     -0.096191|      0.012695|       0.12207|      0.210449|      0.390625|     -1.080078|       0.18457|      0.388672|      0.545898|            0.802246|      1.294922|      3.533691|      -0.17041|      0.015137|       0.09668|      0.158691|      0.219238|      0.290527|      1.023438|   -213.073743|    -71.105961|     -3.540039|      28.62549|          48.950198|     78.552251|    119.567878|     -81.97022|    -27.343752|    -14.465333|     -2.258301|            4.699707|      19.16504|     42.846682|   -147.216806|    -21.972658|    -14.953614|      2.624512|     24.108888|     70.007328|    116.760261|    Synchronization|        <undefined>|        <undefined>|\n",
            "|281|-0.01077389000000...|          1.04864504|         0.25499758|         -4.66308622|          1.00311283|-1.6455078950000002|      1.457460411498793|      5.018285080335705|   2.041752161609034|214.08083944411226|                        27|                        49|     -0.276367|                 0.0|      0.053223|      0.064941|      0.071777|      0.109863|      0.199707|      0.393066|      0.787109|       0.94043|      0.958008|            0.969727|      0.987793|      1.371094|      0.083008|      0.131836|      0.147949|      0.157227|      0.165527|      0.187988|      0.298828|    -15.502931|     -2.807617|     -1.281738|      -0.12207|           2.258301|      11.35254|     56.213382|    -26.428224|     -7.934571|     -2.624512|     -0.610352|            0.915527|      3.112793|     32.653811|    -23.254396|    -12.329102|     -3.540039|     -0.488281|      0.976563|      6.652832|     64.453129|        <undefined>|        <undefined>|        <undefined>|\n",
            "|281| 0.06598634499999999|         0.965983905|        0.149165065|-0.11199949999999999|0.009460444999999993|0.16204838999999993|      1.438724057418035|     0.6233301694092452| 0.05642926424084619| 9.493067466599935|                       102|                        77|      0.049805|            0.058105|      0.064453|      0.068848|      0.072266|       0.07666|      0.084473|      0.949219|      0.955566|      0.959961|      0.962402|            0.967773|      0.974121|      0.981934|      0.134766|      0.141113|      0.145996|      0.149902|      0.153809|      0.157715|      0.163086|     -2.136231|     -1.159668|     -0.793457|     -0.366211|           0.061035|      0.732422|      2.075195|     -2.380371|     -1.281738|     -0.610352|      -0.12207|            0.427246|      0.854492|      1.342774|     -2.197266|     -0.732422|     -0.183105|      0.427246|      1.098633|       1.77002|      2.502442|        <undefined>|        <undefined>|        <undefined>|\n",
            "|281|          0.07509767|  0.9626367499999999|        0.148061545|         -0.65643315| -0.5752563749999999|        0.482788135|      1.436602033126436|     0.4555798849083435|0.027902259186733985| 3.462296004698751|                       128|                        85|        0.0625|            0.069824|      0.072266|       0.07666|       0.07959|      0.082031|      0.085449|      0.952637|      0.956055|      0.959473|      0.962402|            0.964844|       0.96875|      0.973145|       0.13916|      0.143066|      0.145508|      0.147461|      0.149902|       0.15332|      0.157715|     -1.708984|     -1.281738|     -1.037598|     -0.732422|          -0.488281|           0.0|      0.427246|     -1.831055|     -1.220703|     -0.793457|     -0.427246|-0.12206999999999998|      0.061035|      0.488281|     -1.159668|     -0.488281|       0.12207|      0.488281|      0.915527|      1.403809|      2.319336|        <undefined>|        <undefined>|        <undefined>|\n",
            "|281|          0.07709963|  0.9629419250000001|        0.149555715| -0.8474731899999999|        -0.661315945|0.06774901500000001|     1.4360550561691472|     0.5882653757128028| 0.02657323054838373| 3.399302585427138|                       119|                        83|      0.068359|            0.071777|      0.074219|      0.077637|       0.07959|      0.081543|      0.086426|      0.953613|       0.95752|      0.959961|      0.962402|            0.964355|       0.96875|      0.972656|      0.140625|      0.143555|      0.146484|      0.148438|      0.150391|      0.154297|      0.162109|      -1.77002|     -1.464844|     -1.220703|     -0.854492|          -0.671387|     -0.366211|       0.12207|     -1.647949|     -1.220703|     -0.915527|     -0.671387|           -0.366211|     -0.061035|      0.244141|     -1.831055|     -0.915527|     -0.366211|      0.183105|      0.549316|      1.098633|      1.708984|        <undefined>|        <undefined>|        <undefined>|\n",
            "|281|          0.08432373|  0.9018115499999999|         0.25317632| -18.507691559999998|  11.703797085000001| 3.2247926500000004|       1.32913300606965|     22.185100237605788|  0.4282494673205337| 66.96641547579746|                        21|                        10|      0.046875|            0.067871|      0.072754|      0.076172|      0.081055|      0.086914|      0.112793|      0.717773|       0.85498|       0.95166|      0.958008|            0.961426|      0.964844|      0.971191|      0.143066|      0.147461|      0.150879|      0.157715|      0.168457|      0.189453|      0.580566|    -78.002934|    -10.437012|     -2.075195|     -1.586914|          -0.976563|     -0.671387|     -0.183105|     -2.258301|     -1.342774|     -0.915527|     -0.549316|            0.305176|     12.451173|     50.659183|      -2.01416|     -0.610352|      0.366211|      0.976563|      1.403809|      2.929688|     10.314942|        <undefined>|        <undefined>|        <undefined>|\n",
            "|281|         0.101835945|         0.616057135| 0.6495776550000001|       -31.846620595|          4.20715355|-13.048401680000001|      0.900923282152291|     34.572006236045155|  0.7776877924562432|116.86958406025445|                        12|                         9|     -0.055176|9.769999999999998E-4|      0.059082|      0.081543|      0.094727|      0.170898|      0.294922|      0.287109|       0.35498|      0.460938|      0.675293|            0.731934|       0.85498|      0.958008|      0.162109|      0.189453|      0.580566|      0.792969|      0.884277|      0.935059|      1.021973|    -85.937505|    -66.345219|    -43.701175|     -4.089356|          -1.831055|      1.037598|      3.051758|    -45.959475|    -11.901856|     -2.197266|      4.089356|           20.568849|     30.944826|     50.659183|    -55.969242|    -27.832033|     -5.187989|      0.732422|      3.173828|      8.544922|     16.479493|        <undefined>|        <undefined>|        <undefined>|\n",
            "|281| 0.07527344999999999|          0.41475343| 0.9045312649999999|  -7.435303180000001|         -5.92773475| -2.840881510000004|     0.6515538802613617|      9.435808982082282|  0.3331120001422724|107.18098727666808|                        13|                         6|     -0.045898|            -0.00293|      0.011719|       0.03418|      0.089355|      0.121582|      0.202148|      0.287109|       0.34082|      0.375977|      0.399414|            0.453125|      0.484863|      0.503906|      0.822266|      0.842773|      0.874512|      0.885742|      0.897461|      0.935059|      1.021973|    -63.598637|      1.037598|      3.051758|      4.821778|            9.46045|     10.986329|     15.930177|    -45.959475|    -13.916016|     -8.605958|      2.380371|            9.277344|     18.615724|     23.559572|    -55.969242|    -27.832033|      7.202149|     15.625001|     23.315431|     27.465822|     31.799318|        <undefined>|        <undefined>|        <undefined>|\n",
            "|281|         0.094030755|         0.444272485|         0.86425537|          6.80389446|  23.857118145000005|       36.302187285|     0.6849876445440596|      44.15480903283266|  0.2593695321886903| 71.32610236873592|                        24|                        17|     -0.016113|            0.010254|      0.034668|      0.092773|      0.120117|      0.147949|      0.217773|       0.34082|       0.38916|      0.412109|      0.447754|            0.463867|      0.489258|      0.504395|      0.807617|      0.831055|      0.848633|      0.869629|      0.884766|      0.894531|      0.921875|    -13.061524|     -2.807617|      5.737305|       9.46045|          10.620118|     13.977052|     18.493653|     -8.361817|      4.150391|     12.390137|     17.822267|           23.010255|     28.076174|      63.04932|      9.155274|     19.409181|     25.512697|     29.541017|      32.40967|     46.020511|     75.134282|        <undefined>|        <undefined>|        <undefined>|\n",
            "|281|-0.12505865500000002|         0.580256375| 0.7040600650000001|  28.819581834999994|  11.743164785000001|  4.508972455000003|     0.8694505441496472|     31.897531569019602|  0.7311747607241859|207.29946567634732|                        35|                        24|     -0.547363|           -0.392578|     -0.279297|      -0.12207|      0.085938|      0.140625|      0.217773|      0.366699|      0.440918|      0.473145|      0.547363|            0.633301|      0.718262|      0.831055|      0.348633|       0.58252|      0.672852|      0.778809|      0.836914|       0.88623|      0.921875|    -18.493653|    -11.108399|     -2.502442|      7.080079|          27.221681|     72.021489|    108.276374|   -110.412604|    -41.076663|     17.700196|     26.000978|           39.001467|     75.134282|     95.581061|    -88.684087|    -39.550784|      2.319336|      8.361817|     29.541017|     62.072758|     76.904302|        <undefined>|        <undefined>|        <undefined>|\n",
            "|281|        -0.342768635|  0.6047070499999999|         0.63175294|  42.954104189999995|        -48.72711481|       -44.49859891|     0.9818407329974956|      78.65639907437637|  0.7854069052561905| 230.0230845078676|                        77|                        47|     -0.628418|           -0.520508|     -0.360352|     -0.310547|     -0.254395|     -0.197266|     -0.117188|      0.399414|      0.452637|       0.52832|      0.585449|            0.643066|      0.751465|       0.84668|      0.304688|      0.385742|      0.517578|      0.585449|       0.64209|      0.749512|      0.970703|    -37.780764|    -10.437012|     12.390137|     33.447268|          76.721196|    106.567389|    132.690438|   -141.784677|   -110.961921|    -92.163092|    -65.734867|           -39.97803|      24.84131|     79.650884|   -121.032722|    -86.669927|    -71.960454|     -47.79053|    -27.282717|     -4.028321|     28.015138|        <undefined>|        <undefined>|        <undefined>|\n",
            "|281|        -0.186718795|          0.43947266|         0.82237304|  6.2289432699999985| -34.793703335000004|       -31.72088819|     0.7285572906356441|     47.252263952337536|  0.8552222584120879|211.96106294760324|                        50|                        38|     -0.450684|           -0.322266|      -0.26123|     -0.213867|     -0.123047|      0.005859|      0.183594|      0.273926|      0.336426|      0.385742|      0.433105|            0.480469|      0.550781|      0.643066|      0.433105|      0.555664|      0.649902|      0.739746|       0.90625|      0.985352|      1.202148|    -74.646001|    -40.588381|    -19.287111|      5.310059|          19.775392|     38.635256|     94.238287|   -115.966804|    -94.970709|    -75.073247|    -50.659183|          -23.864748|     25.024416|     73.303227|     -83.98438|    -64.392094|    -46.386722|    -31.860354|    -18.310548|     -1.586914|     27.465822|        <undefined>|        <undefined>|        <undefined>|\n",
            "|281|          0.09321777| 0.19767333999999998| 0.9476806799999999|       -11.600037335| -18.935242865000003|0.03356934000000024|    0.43461838663332536|     21.558034453118836|  0.7958113541831557|161.52760677681485|                        31|                        36|     -0.289551|           -0.176758|      0.003418|      0.145996|      0.191895|      0.250977|      0.464844|     -0.063965|      -0.01123|      0.060059|      0.145508|            0.287598|      0.372559|      0.514648|      0.651367|      0.797363|      0.867188|      0.911621|      0.989258|      1.069824|      1.229492|    -60.607914|    -37.170412|     -24.71924|     -7.751465|           4.943848|     18.737794|     31.433107|     -89.53858|    -61.645512|    -45.471194|    -29.968264|           -15.38086|      17.15088|     73.303227|    -52.734378|    -26.184084|     -7.934571|      8.361817|     20.202638|     30.090334|     44.250491|        <undefined>|        <undefined>|        <undefined>|\n",
            "|281|         0.401320835|        -0.038991705|         0.89894045|        -4.390869405| -21.855164889999998| 3.7948610800000004|    0.39570587398914203|      21.95419991066695| 0.48853563271153305|104.08723621317235|                        43|                        54|      0.132324|            0.250977|       0.42041|      0.493652|      0.525391|      0.558105|      0.580078|     -0.150391|     -0.120605|     -0.093262|     -0.053711|           -0.019531|       0.02832|      0.101074|       0.76416|      0.797363|      0.837891|      0.871094|      0.910645|      0.964844|      1.069824|    -33.020022|    -16.174317|     -6.774903|     -3.356934|           2.990723|      8.544922|     18.188478|     -64.81934|    -37.170412|     -22.82715|    -14.770509|           -2.685547|      6.835938|     14.282227|    -28.320314|     -2.441406|      4.699707|     10.925294|     17.517091|     25.329591|     36.499026|        <undefined>|        <undefined>|        <undefined>|\n",
            "|281|          0.30169192|0.006765134999999995|        0.901806655| 0.46783452000000025|         16.78558451|        -7.09777876|      0.344163175092947|     18.865796743585754|  0.5320578126711754| 89.17957530072022|                        33|                        28|     -0.053223|            0.059082|      0.187012|      0.401855|      0.509766|      0.542969|      0.569824|     -0.146484|     -0.114258|     -0.087402|     -0.039063|             0.01709|      0.077637|      0.161133|      0.777832|      0.831543|      0.867188|      0.905762|      0.937012|      0.969238|      1.011719|    -33.203127|    -19.104005|     -9.338379|     -3.845215|           3.295899|      8.728028|     42.480471|    -19.775392|    -10.070801|       0.12207|      9.338379|           23.925783|     40.039065|     60.241703|    -39.855959|    -24.536134|    -11.047364|     -1.586914|      4.882813|     12.756348|     19.897462|        <undefined>|        <undefined>|        <undefined>|\n",
            "|281|         -0.06573488|-0.18420899500000004| 0.9124682799999999| -25.824281375000005|   7.911072240000001| 15.163880315000002|    0.13908727358167172|     30.786636485896736|  0.7246006301866423|168.12865333588007|                        36|                        39|     -0.279785|           -0.213867|     -0.169922|     -0.118652|     -0.013184|      0.067383|      0.187012|     -0.658691|     -0.492188|     -0.360352|     -0.105957|-0.00390599999999...|      0.065918|      0.161133|      0.711426|      0.803223|      0.887207|       0.93457|      0.969238|      1.008789|      1.082031|   -107.849128|    -58.105472|    -32.653811|    -19.836427|0.12207000000000001|     22.583009|     42.480471|     -53.34473|     -20.81299|    -13.671876|       5.67627|           29.052736|     47.424319|     62.316898|    -36.499026|    -19.653322|    -10.253907|      -1.77002|      9.765626|     23.376466|     98.876959|        <undefined>|        <undefined>|        <undefined>|\n",
            "|281|-0.04592774999999...| -0.5043213449999999| 0.8514721700000001|       -25.923158325|        -16.74713235| 23.558351039999998|     0.3023280997691517|     38.251482237657896|  0.5558884293220773|150.07052274529295|                        72|                        47|     -0.279785|           -0.213379|     -0.149902|     -0.041992|      0.043457|      0.096191|      0.182129|     -0.703613|     -0.602051|     -0.558594|     -0.525391|           -0.481934|     -0.428223|     -0.324707|      0.640625|      0.738281|      0.782715|      0.833496|      0.871094|      0.939941|      1.043945|   -107.849128|    -48.889163|    -19.836427|     -6.042481|           4.699707|     14.526368|     26.550295|    -69.519047|    -43.579104|    -28.442385|     -17.27295|           -5.187989|      9.155274|     31.188967|    -12.634278|     -4.821778|      3.051758|      6.958008|     13.000489|     23.376466|     98.876959|        <undefined>|        <undefined>|        <undefined>|\n",
            "|281|          0.01897461|        -0.462165575|        0.868469265|         12.28027419| -0.7623291299999994| -8.505859904999998|     0.2412441255488489|      15.29849485962594|  0.5552878094732394|107.69023657054215|                        70|                        41|     -0.130859|           -0.048828|     -0.004395|      0.052246|      0.087402|      0.115723|      0.187012|     -0.586914|     -0.558594|     -0.531738|     -0.512207|           -0.474609|     -0.436523|     -0.327148|      0.690918|      0.777832|       0.82666|      0.861816|      0.902344|      0.941895|      1.028809|    -18.432618|       -5.5542|      2.075195|       9.46045|          18.737794|     27.770998|     42.175296|     -62.92725|    -31.555178|     -17.27295|      8.422852|           25.451662|      40.22217|     51.879886|    -33.142092|    -21.606447|    -13.793946|     -6.164551|      3.234863|      7.385254|     15.197755|        <undefined>|        <undefined>|        <undefined>|\n",
            "|281|0.025166019999999997|         -0.23211426| 0.9362085250000001|         20.63964968|   6.245117575000002|-12.024231709999999|    0.03569881001561141|     25.187549098600172|  0.6004673586775446| 105.3151683656691|                        38|                        55|     -0.130859|           -0.027344|       0.04834|      0.085449|      0.106445|      0.120117|       0.17627|     -0.528809|     -0.474609|     -0.425781|     -0.217773|           -0.094727|     -0.010742|      0.081543|      0.769531|      0.852539|      0.916016|      0.952637|       0.97998|      0.998047|      1.077148|     -6.896973|      6.347657|     12.878419|      22.82715|          27.404787|     37.475588|     49.621585|    -41.503909|    -13.183595|     -2.319336|      8.666993|           27.465822|     39.916995|      49.43848|    -36.743166|    -25.451662|    -16.052247|    -11.718751|     -6.164551|      2.441406|     12.695313|        <undefined>|        <undefined>|        <undefined>|\n",
            "+---+--------------------+--------------------+-------------------+--------------------+--------------------+-------------------+-----------------------+-----------------------+--------------------+------------------+--------------------------+--------------------------+--------------+--------------------+--------------+--------------+--------------+--------------+--------------+--------------+--------------+--------------+--------------+--------------------+--------------+--------------+--------------+--------------+--------------+--------------+--------------+--------------+--------------+--------------+--------------+--------------+--------------+-------------------+--------------+--------------+--------------+--------------+--------------+--------------+--------------------+--------------+--------------+--------------+--------------+--------------+--------------+--------------+--------------+--------------+-------------------+-------------------+-------------------+\n",
            "only showing top 20 rows\n",
            "\n"
          ]
        }
      ],
      "source": [
        "# Segmentation Back sensors\n",
        "\n",
        "import numpy as np\n",
        "from scipy.interpolate import interp1d\n",
        "\n",
        "# Intervals of 2 seconds\n",
        "window_size = 200\n",
        "# Overlap of 1 second\n",
        "step_size = 100\n",
        "\n",
        "# Make use of RDD\n",
        "rdd = data_back.rdd\n",
        "\n",
        "# Group the data by key (DogID + TestNr)\n",
        "grouped_rdd = rdd.groupBy(lambda x: x[12])\n",
        "\n",
        "# Initialize all of the functions\n",
        "features_rdd = grouped_rdd.flatMap(key_segments)\n",
        "\n",
        "# Create new DataFrame using the segmented data\n",
        "segmented_data_back = spark.createDataFrame(features_rdd, schema=[\"ID\", \"mean_ABack_x\", \"mean_ABack_y\", \"mean_ABack_z\", \"mean_GBack_x\", \"mean_GBack_y\", \"mean_GBack_z\",\n",
        "    \"positional_offset_ABack\", \"positional_offset_GBack\", \"sum_std_dev_ABack\", \"sum_std_dev_GBack\", \"total_mean_crossings_ABack\", \"total_mean_crossings_GBack\",\n",
        "    \"ecdf_ABack_x_1\", \"ecdf_ABack_x_2\", \"ecdf_ABack_x_3\", \"ecdf_ABack_x_4\", \"ecdf_ABack_x_5\", \"ecdf_ABack_x_6\", \"ecdf_ABack_x_7\",\n",
        "    \"ecdf_ABack_y_1\", \"ecdf_ABack_y_2\", \"ecdf_ABack_y_3\", \"ecdf_ABack_y_4\", \"ecdf_ABack_y_5\", \"ecdf_ABack_y_6\", \"ecdf_ABack_y_7\",\n",
        "    \"ecdf_ABack_z_1\", \"ecdf_ABack_z_2\", \"ecdf_ABack_z_3\", \"ecdf_ABack_z_4\", \"ecdf_ABack_z_5\", \"ecdf_ABack_z_6\", \"ecdf_ABack_z_7\",\n",
        "    \"ecdf_GBack_x_1\", \"ecdf_GBack_x_2\", \"ecdf_GBack_x_3\", \"ecdf_GBack_x_4\", \"ecdf_GBack_x_5\", \"ecdf_GBack_x_6\", \"ecdf_GBack_x_7\",\n",
        "    \"ecdf_GBack_y_1\", \"ecdf_GBack_y_2\", \"ecdf_GBack_y_3\", \"ecdf_GBack_y_4\", \"ecdf_GBack_y_5\", \"ecdf_GBack_y_6\", \"ecdf_GBack_y_7\",\n",
        "    \"ecdf_GBack_z_1\", \"ecdf_GBack_z_2\", \"ecdf_GBack_z_3\", \"ecdf_GBack_z_4\", \"ecdf_GBack_z_5\", \"ecdf_GBack_z_6\", \"ecdf_GBack_z_7\",\n",
        "    \"dominant_behavior_1\", \"dominant_behavior_2\", \"dominant_behavior_3\" ])\n",
        "\n",
        "segmented_data_back.show()"
      ]
    },
    {
      "cell_type": "code",
      "execution_count": null,
      "metadata": {
        "colab": {
          "base_uri": "https://localhost:8080/"
        },
        "id": "OhnGw-Z6AB4i",
        "outputId": "b4ad3c40-2534-4bc6-fd8b-855ac4964a8c"
      },
      "outputs": [
        {
          "name": "stdout",
          "output_type": "stream",
          "text": [
            "Number of rows: 99914\n"
          ]
        }
      ],
      "source": [
        "# Calculate total number of rows of segmented data\n",
        "num_rows = segmented_data_back.count()\n",
        "print(f\"Number of rows: {num_rows}\")"
      ]
    },
    {
      "cell_type": "code",
      "execution_count": null,
      "metadata": {
        "id": "OtJTMi61CgZF"
      },
      "outputs": [],
      "source": [
        "# Export the data\n",
        "segmented_data_back_1file = segmented_data_back.coalesce(1)\n",
        "segmented_data_back_1file.write.csv(\"/content/drive/MyDrive/data2\", header=True, mode=\"append\")"
      ]
    },
    {
      "cell_type": "code",
      "execution_count": null,
      "metadata": {
        "colab": {
          "base_uri": "https://localhost:8080/"
        },
        "id": "9QBESCl1PL9h",
        "outputId": "7ea7245f-3939-4c08-d978-ee7607edea0c"
      },
      "outputs": [
        {
          "name": "stdout",
          "output_type": "stream",
          "text": [
            "+-----+-------+-----+---------+---------+---------+----------+----------+----------+--------+\n",
            "|DogID|TestNum|t_sec|  ANeck_x|  ANeck_y|  ANeck_z|   GNeck_x|   GNeck_y|   GNeck_z|Groupkey|\n",
            "+-----+-------+-----+---------+---------+---------+----------+----------+----------+--------+\n",
            "|   16|      1|    0|-0.067871|-0.510254| -0.93457| -7.934571|  6.347657| 13.427735|     161|\n",
            "|   16|      1| 0.01|-0.128906|-0.494141|-0.913086|  -3.90625|  4.394532| 16.540528|     161|\n",
            "|   16|      1| 0.02|-0.158691|-0.480469|-0.911133| -0.488281| -1.953125| 26.794435|     161|\n",
            "|   16|      1| 0.03| -0.12207|-0.486816|-0.880371|  1.159668|  -5.67627|  38.08594|     161|\n",
            "|   16|      1| 0.04|-0.053711|     -0.5|-0.807129|  4.577637|  4.089356| 41.503909|     161|\n",
            "|   16|      1| 0.05| 0.019043|-0.463867|-0.749023| 12.939454|  20.81299|  32.53174|     161|\n",
            "|   16|      1| 0.06| 0.045898|-0.376953| -0.78125|  22.70508| 29.968264| 14.038087|     161|\n",
            "|   16|      1| 0.07| 0.028809|-0.307617|-0.941406| 23.925783| 19.470216| -5.920411|     161|\n",
            "|   16|      1| 0.08|-0.014648|-0.349121|-1.100098| 12.084962| -8.300782|-20.202638|     161|\n",
            "|   16|      1| 0.09|-0.061035|-0.480469|-1.129395| -3.845215|-37.475588|-24.475099|     161|\n",
            "|   16|      1|  0.1|-0.086426|-0.598633|-1.083008|-10.681153|-42.968753|-20.324708|     161|\n",
            "|   16|      1| 0.11|-0.086914|-0.634766|-0.996094|  -3.90625|-30.700685|-13.122559|     161|\n",
            "|   16|      1| 0.12|-0.071289|-0.599609|-0.931152|  6.225586| -5.187989| -7.507325|     161|\n",
            "|   16|      1| 0.13|-0.101074| -0.54248|-0.925293| 10.620118| 11.962891| -4.943848|     161|\n",
            "|   16|      1| 0.14|-0.112793|-0.501465| -0.91748|  9.765626|  5.859375| -3.723145|     161|\n",
            "|   16|      1| 0.15|-0.087891| -0.48584|-0.919922|  7.324219| -2.319336| -6.835938|     161|\n",
            "|   16|      1| 0.16|-0.075195| -0.46875|-0.929199|  8.850098| -2.746582|-13.854981|     161|\n",
            "|   16|      1| 0.17|-0.078125|-0.444824|-0.922363| 12.756348| -1.831055|-20.202638|     161|\n",
            "|   16|      1| 0.18|-0.070313| -0.44043|-0.885742| 13.671876| -4.150391|-21.423341|     161|\n",
            "|   16|      1| 0.19|-0.054199|-0.432617|-0.860352| 13.549806| -3.295899|-17.822267|     161|\n",
            "+-----+-------+-----+---------+---------+---------+----------+----------+----------+--------+\n",
            "only showing top 20 rows\n",
            "\n"
          ]
        }
      ],
      "source": [
        "from pyspark.sql.functions import concat, col\n",
        "\n",
        "# Use only the feautres corresponding to the Neck sensors\n",
        "data_neck = data.select(\"DogID\", \"TestNum\", \"t_sec\", \"ANeck_x\", \"ANeck_y\", \"ANeck_z\", \"GNeck_x\", \"GNeck_y\", \"GNeck_z\")\n",
        "# Add key to identify instances that correpsond to a particular Dog and TestNumber\n",
        "data_neck = data_neck.withColumn(\"Groupkey\", concat(col(\"DogID\"), col(\"TestNum\")))\n",
        "\n",
        "data_neck.show()"
      ]
    },
    {
      "cell_type": "code",
      "source": [
        "# All of the functions used in the segmentation of Neck Data\n",
        "\n",
        "# Segmentation function\n",
        "def segmentate(instances, window_size, step_size):\n",
        "    # A list is created with all of the instances from a particalar group\n",
        "    instances_list = list(instances)\n",
        "    # An empty list is created\n",
        "    segments = []\n",
        "    # Segmentate the instances list and add ech segment to the segment list\n",
        "    for i in range(0, len(instances) - window_size + 1, step_size):\n",
        "        segment = instances_list[i:i + window_size]\n",
        "        segments.append(segment)\n",
        "    return segments\n",
        "\n",
        "# Function to extrapolate the cumulative distribution\n",
        "def extrapolate(data_axis, p_values):\n",
        "    # Sort the data frin tge feature\n",
        "    data_axis_sorted = np.sort(data_axis)\n",
        "    # Create a cumulative distribution\n",
        "    cum_distribution = np.arange(1, len(data_axis_sorted) + 1) / len(data_axis_sorted)\n",
        "    # this function traces a line through the data using the cumulative distribution\n",
        "    extrapolator = interp1d(cum_distribution, data_axis_sorted, fill_value=\"extrapolate\")\n",
        "    # Extract the values of the line of the different p-values\n",
        "    return extrapolator(p_values)\n",
        "\n",
        "# Function to calculate all of the new features\n",
        "def calculate_features(segment):\n",
        "    # Create for each feature new lists based on the data from the segments\n",
        "    ANeck_x = [float(x[3]) for x in segment]\n",
        "    ANeck_y = [float(x[4]) for x in segment]\n",
        "    ANeck_z = [float(x[5]) for x in segment]\n",
        "    GNeck_x = [float(x[6]) for x in segment]\n",
        "    GNeck_y = [float(x[7]) for x in segment]\n",
        "    GNeck_z = [float(x[8]) for x in segment]\n",
        "\n",
        "    # Calculate the mean\n",
        "    mean_ANeck_x = float(np.mean(ANeck_x))\n",
        "    mean_ANeck_y = float(np.mean(ANeck_y))\n",
        "    mean_ANeck_z = float(np.mean(ANeck_z))\n",
        "    mean_GNeck_x = float(np.mean(GNeck_x))\n",
        "    mean_GNeck_y = float(np.mean(GNeck_y))\n",
        "    mean_GNeck_z = float(np.mean(GNeck_z))\n",
        "\n",
        "    # Calculate the positional offset based on standing behavior\n",
        "    positional_offset_ANeck = float(np.sqrt((mean_ANeck_x - standing_mean_ANeck_x) ** 2 + (mean_ANeck_y - standing_mean_ANeck_y) ** 2 + (mean_ANeck_z - standing_mean_ANeck_z) ** 2))\n",
        "    positional_offset_GNeck = float(np.sqrt((mean_GNeck_x - standing_mean_GNeck_x) ** 2 + (mean_GNeck_y - standing_mean_GNeck_y) ** 2 + (mean_GNeck_z - standing_mean_GNeck_z) ** 2))\n",
        "\n",
        "    #Calculate the sum of standard deviation\n",
        "    sum_std_dev_ANeck = float(np.std(ANeck_x)) + float(np.std(ANeck_y)) + float(np.std(ANeck_z))\n",
        "    sum_std_dev_GNeck = float(np.std(GNeck_x)) + float(np.std(GNeck_y)) + float(np.std(GNeck_z))\n",
        "\n",
        "    #Calculate the sum of mean crossings\n",
        "    mean_crossings_ANeck_x = len(np.where(np.diff(np.sign(ANeck_x - np.mean(ANeck_x))))[0])\n",
        "    mean_crossings_ANeck_y = len(np.where(np.diff(np.sign(ANeck_y - np.mean(ANeck_y))))[0])\n",
        "    mean_crossings_ANeck_z = len(np.where(np.diff(np.sign(ANeck_z - np.mean(ANeck_z))))[0])\n",
        "    total_mean_crossings_ANeck = mean_crossings_ANeck_x + mean_crossings_ANeck_y + mean_crossings_ANeck_z\n",
        "\n",
        "    mean_crossings_GNeck_x = len(np.where(np.diff(np.sign(GNeck_x - np.mean(GNeck_x))))[0])\n",
        "    mean_crossings_GNeck_y = len(np.where(np.diff(np.sign(GNeck_y - np.mean(GNeck_y))))[0])\n",
        "    mean_crossings_GNeck_z = len(np.where(np.diff(np.sign(GNeck_z - np.mean(GNeck_z))))[0])\n",
        "    total_mean_crossings_GNeck = mean_crossings_GNeck_x + mean_crossings_GNeck_y + mean_crossings_GNeck_z\n",
        "\n",
        "    #Calculate the ECDF\n",
        "    # Devide tge range 0 to 1 in 7 points\n",
        "    p_values = np.linspace(0, 1, 9)[1:-1]\n",
        "    # Calculate the ECDF using the function\n",
        "    ecdf_ANeck_x = extrapolate(ANeck_x, p_values)\n",
        "    ecdf_ANeck_y = extrapolate(ANeck_y, p_values)\n",
        "    ecdf_ANeck_z = extrapolate(ANeck_z, p_values)\n",
        "    # Convert all values to floats\n",
        "    ecdf_ANeck_x = [float(x) for x in ecdf_ANeck_x]\n",
        "    ecdf_ANeck_y = [float(x) for x in ecdf_ANeck_y]\n",
        "    ecdf_ANeck_z = [float(x) for x in ecdf_ANeck_z]\n",
        "    # Convert list to 7 individual features\n",
        "    ecdf_ANeck_x_1, ecdf_ANeck_x_2, ecdf_ANeck_x_3, ecdf_ANeck_x_4, ecdf_ANeck_x_5, ecdf_ANeck_x_6, ecdf_ANeck_x_7 = ecdf_ANeck_x\n",
        "    ecdf_ANeck_y_1, ecdf_ANeck_y_2, ecdf_ANeck_y_3, ecdf_ANeck_y_4, ecdf_ANeck_y_5, ecdf_ANeck_y_6, ecdf_ANeck_y_7 = ecdf_ANeck_y\n",
        "    ecdf_ANeck_z_1, ecdf_ANeck_z_2, ecdf_ANeck_z_3, ecdf_ANeck_z_4, ecdf_ANeck_z_5, ecdf_ANeck_z_6, ecdf_ANeck_z_7 = ecdf_ANeck_z\n",
        "\n",
        "    # Calculate the ECDF using the function\n",
        "    ecdf_GNeck_x = extrapolate(GNeck_x, p_values)\n",
        "    ecdf_GNeck_y = extrapolate(GNeck_y, p_values)\n",
        "    ecdf_GNeck_z = extrapolate(GNeck_z, p_values)\n",
        "    # Convert all values to floats\n",
        "    ecdf_GNeck_x = [float(x) for x in ecdf_GNeck_x]\n",
        "    ecdf_GNeck_y = [float(x) for x in ecdf_GNeck_y]\n",
        "    ecdf_GNeck_z = [float(x) for x in ecdf_GNeck_z]\n",
        "    # Convert list to 7 individual features\n",
        "    ecdf_GNeck_x_1, ecdf_GNeck_x_2, ecdf_GNeck_x_3, ecdf_GNeck_x_4, ecdf_GNeck_x_5, ecdf_GNeck_x_6, ecdf_GNeck_x_7 = ecdf_GNeck_x\n",
        "    ecdf_GNeck_y_1, ecdf_GNeck_y_2, ecdf_GNeck_y_3, ecdf_GNeck_y_4, ecdf_GNeck_y_5, ecdf_GNeck_y_6, ecdf_GNeck_y_7 = ecdf_GNeck_y\n",
        "    ecdf_GNeck_z_1, ecdf_GNeck_z_2, ecdf_GNeck_z_3, ecdf_GNeck_z_4, ecdf_GNeck_z_5, ecdf_GNeck_z_6, ecdf_GNeck_z_7 = ecdf_GNeck_z\n",
        "\n",
        "    return mean_ANeck_x, mean_ANeck_y, mean_ANeck_z, mean_GNeck_x, mean_GNeck_y, mean_GNeck_z, positional_offset_ANeck, positional_offset_GNeck, sum_std_dev_ANeck, sum_std_dev_GNeck, total_mean_crossings_ANeck, total_mean_crossings_GNeck, ecdf_ANeck_x_1, ecdf_ANeck_x_2, ecdf_ANeck_x_3, ecdf_ANeck_x_4, ecdf_ANeck_x_5, ecdf_ANeck_x_6, ecdf_ANeck_x_7, ecdf_ANeck_y_1, ecdf_ANeck_y_2, ecdf_ANeck_y_3, ecdf_ANeck_y_4, ecdf_ANeck_y_5, ecdf_ANeck_y_6, ecdf_ANeck_y_7, ecdf_ANeck_z_1, ecdf_ANeck_z_2, ecdf_ANeck_z_3, ecdf_ANeck_z_4, ecdf_ANeck_z_5, ecdf_ANeck_z_6, ecdf_ANeck_z_7, ecdf_GNeck_x_1, ecdf_GNeck_x_2, ecdf_GNeck_x_3, ecdf_GNeck_x_4, ecdf_GNeck_x_5, ecdf_GNeck_x_6, ecdf_GNeck_x_7, ecdf_GNeck_y_1, ecdf_GNeck_y_2, ecdf_GNeck_y_3, ecdf_GNeck_y_4, ecdf_GNeck_y_5, ecdf_GNeck_y_6, ecdf_GNeck_y_7, ecdf_GNeck_z_1, ecdf_GNeck_z_2, ecdf_GNeck_z_3, ecdf_GNeck_z_4, ecdf_GNeck_z_5, ecdf_GNeck_z_6, ecdf_GNeck_z_7\n",
        "\n",
        "# Function that combines all of the functions\n",
        "def key_segments(group):\n",
        "    key, instances = group\n",
        "    # The rows of each group are segmentated\n",
        "    segments = segmentate(instances, window_size, step_size)\n",
        "    # Create an empty list\n",
        "    result = []\n",
        "    # For each segment, the featyres are calculated and added to the list\n",
        "    for segment in segments:\n",
        "        features = calculate_features(segment)\n",
        "        result.append((key,) + features)\n",
        "    return result"
      ],
      "metadata": {
        "id": "lxisEiGLlwby"
      },
      "execution_count": null,
      "outputs": []
    },
    {
      "cell_type": "code",
      "execution_count": null,
      "metadata": {
        "colab": {
          "base_uri": "https://localhost:8080/"
        },
        "id": "EtUQ-_2EPpQN",
        "outputId": "464a4b82-671f-4974-ea34-276f696fbf04"
      },
      "outputs": [
        {
          "name": "stdout",
          "output_type": "stream",
          "text": [
            "+---+--------------------+--------------------+-------------------+--------------------+--------------------+--------------------+-----------------------+-----------------------+--------------------+------------------+--------------------------+--------------------------+--------------+--------------+--------------+--------------+--------------+--------------+--------------+--------------+--------------+--------------+--------------+--------------+--------------+--------------+--------------+--------------+--------------+--------------+--------------+--------------+--------------+--------------+--------------+--------------+--------------+--------------+--------------+--------------+--------------+--------------------+--------------------+--------------+--------------+--------------+--------------+--------------+--------------+--------------+--------------+--------------+--------------+--------------+\n",
            "| ID|        mean_ANeck_x|        mean_ANeck_y|       mean_ANeck_z|        mean_GNeck_x|        mean_GNeck_y|        mean_GNeck_z|positional_offset_ANeck|positional_offset_GNeck|   sum_std_dev_ANeck| sum_std_dev_GNeck|total_mean_crossings_ANeck|total_mean_crossings_GNeck|ecdf_ANeck_x_1|ecdf_ANeck_x_2|ecdf_ANeck_x_3|ecdf_ANeck_x_4|ecdf_ANeck_x_5|ecdf_ANeck_x_6|ecdf_ANeck_x_7|ecdf_ANeck_y_1|ecdf_ANeck_y_2|ecdf_ANeck_y_3|ecdf_ANeck_y_4|ecdf_ANeck_y_5|ecdf_ANeck_y_6|ecdf_ANeck_y_7|ecdf_ANeck_z_1|ecdf_ANeck_z_2|ecdf_ANeck_z_3|ecdf_ANeck_z_4|ecdf_ANeck_z_5|ecdf_ANeck_z_6|ecdf_ANeck_z_7|ecdf_GNeck_x_1|ecdf_GNeck_x_2|ecdf_GNeck_x_3|ecdf_GNeck_x_4|ecdf_GNeck_x_5|ecdf_GNeck_x_6|ecdf_GNeck_x_7|ecdf_GNeck_y_1|      ecdf_GNeck_y_2|      ecdf_GNeck_y_3|ecdf_GNeck_y_4|ecdf_GNeck_y_5|ecdf_GNeck_y_6|ecdf_GNeck_y_7|ecdf_GNeck_z_1|ecdf_GNeck_z_2|ecdf_GNeck_z_3|ecdf_GNeck_z_4|ecdf_GNeck_z_5|ecdf_GNeck_z_6|ecdf_GNeck_z_7|\n",
            "+---+--------------------+--------------------+-------------------+--------------------+--------------------+--------------------+-----------------------+-----------------------+--------------------+------------------+--------------------------+--------------------------+--------------+--------------+--------------+--------------+--------------+--------------+--------------+--------------+--------------+--------------+--------------+--------------+--------------+--------------+--------------+--------------+--------------+--------------+--------------+--------------+--------------+--------------+--------------+--------------+--------------+--------------+--------------+--------------+--------------+--------------------+--------------------+--------------+--------------+--------------+--------------+--------------+--------------+--------------+--------------+--------------+--------------+--------------+\n",
            "|281|        -0.236118185|         -0.40064212|-0.8883545050000001|  0.2844238150000001|0.029296855000000052| -0.4421997499999999|     0.3620597473606343|     0.5575229606939824| 0.08044143259284714|14.231022540682389|                        50|                        43|     -0.265625|      -0.25293|     -0.244629|      -0.23877|     -0.233398|     -0.223633|     -0.205078|     -0.428223|      -0.42041|     -0.412598|      -0.40625|      -0.39502|     -0.380859|     -0.371094|     -0.919434|     -0.907715|     -0.899902|     -0.890137|        -0.875|      -0.86377|     -0.853027|     -6.713868|     -4.089356|     -2.136231|     -0.427246|      1.708984|      4.211426|      7.019043|     -6.042481|           -3.417969|           -1.159668|      0.671387|      2.197266|      3.540039|      5.249024|     -5.004883|     -3.112793|     -1.159668|      0.305176|      1.220703|      2.258301|      3.173828|\n",
            "|281|-0.21734863000000001|         -0.42834474|-0.8761865350000001|          1.06323247|         1.508483985|         -0.93902593|    0.33641691333850166|      2.251249237249107| 0.06981420255506847| 9.550928479678397|                        52|                        57|     -0.249512|     -0.237793|     -0.230957|     -0.219727|     -0.208496|     -0.200684|     -0.188477|      -0.44873|     -0.441406|     -0.433105|     -0.428711|     -0.425293|     -0.416504|     -0.408691|     -0.907227|     -0.897461|     -0.890137|     -0.875977|      -0.86377|     -0.855469|     -0.847168|     -3.601074|      -1.89209|     -0.427246|      1.159668|      2.380371|       3.66211|      4.699707|     -1.342774|           -0.061035|            0.915527|      1.525879|      2.319336|      3.295899|      4.699707|     -4.699707|     -3.112793|     -2.197266|     -0.854492|       0.12207|      1.464844|      2.807617|\n",
            "|281|-0.18564940500000002| -0.4448730550000001|        -0.88018067|         -0.18676761|           0.7492066| -1.6995240100000002|     0.3339554993021251|     1.9483791572614255| 0.06730164976793743| 7.584449417417694|                        58|                        63|     -0.210449|     -0.203125|     -0.192871|     -0.186035|     -0.177246|     -0.172363|     -0.158203|     -0.459961|     -0.455078|     -0.450684|     -0.446289|     -0.440918|     -0.436035|     -0.428223|     -0.912598|      -0.90332|     -0.895996|     -0.888672|        -0.875|      -0.85498|     -0.838379|     -4.516602|     -2.685547|     -1.647949|     -0.305176|      1.403809|      2.929688|       3.90625|     -1.647949|           -0.915527|            -0.12207|      0.671387|      1.281738|      2.075195|      2.990723|     -4.455567|     -3.417969|     -2.563477|     -1.708984|     -0.671387|     -0.183105|      0.732422|\n",
            "|281|        -0.172846695|-0.45302494499999996|       -0.878718275|-0.47363286000000004|         -0.43823245|        -1.058349645|    0.33072364249425074|     1.1234301592894058|0.059197889629031275| 7.712047981310917|                        78|                        61|      -0.19043|     -0.183105|     -0.179199|     -0.175781|     -0.171875|     -0.166504|     -0.150879|     -0.467285|     -0.462891|      -0.45752|      -0.45459|     -0.451172|     -0.444824|     -0.436035|     -0.914551|     -0.904297|     -0.894531|     -0.883301|     -0.871094|     -0.851563|     -0.835449|     -4.577637|     -3.234863|     -2.136231|     -1.098633|      0.610352|      2.929688|      3.967285|     -2.807617|           -1.708984|           -1.037598|     -0.549316|      0.061035|      0.793457|      1.831055|     -3.723145|     -2.624512|     -1.831055|     -0.915527|     -0.244141|      0.244141|      1.525879|\n",
            "|281|         -0.17870361|-0.46227542499999996|       -0.871916535|           0.1763916|          -0.6332398|0.025939960000000043|    0.31923548504393556|     0.3881813214430679| 0.06295576421572333| 8.343413400583687|                        75|                        63|     -0.196777|     -0.186523|     -0.182129|     -0.177734|     -0.174316|      -0.17041|     -0.162109|     -0.480957|     -0.474121|     -0.467285|     -0.462891|     -0.458008|     -0.452637|     -0.443359|     -0.907715|     -0.898926|     -0.887695|     -0.876465|      -0.86377|      -0.84668|      -0.82959|      -3.78418|     -2.685547|     -1.831055|     -0.976563|      1.098633|      3.295899|      5.065918|      -3.78418|           -2.197266|           -1.281738|     -0.488281|      0.183105|      0.915527|      1.953125|     -2.563477|      -1.89209|     -0.793457|      0.183105|      0.793457|      1.647949|      2.746582|\n",
            "|281|-0.17981444500000002|-0.47723635000000003|        -0.86443607|         2.231750625|         3.709717025|         2.679138345|     0.3053875941754082|      5.325651921105652| 0.09738149342177953|30.558776214763064|                        78|                        34|     -0.209961|     -0.199707|      -0.19043|     -0.185059|     -0.179199|     -0.174316|      -0.16748|     -0.490234|     -0.484375|     -0.480469|     -0.477539|     -0.473633|      -0.46582|     -0.458008|     -0.903809|     -0.894531|     -0.881348|     -0.868652|     -0.852539|     -0.835449|     -0.820313|     -4.089356|     -3.051758|      -1.89209|     -0.793457|      2.807617|      4.882813|      6.958008|     -2.990723|           -1.586914|           -0.549316|      0.183105|      0.976563|      1.708984|      4.028321|     -1.831055|     -0.610352|      0.305176|      0.793457|      1.708984|      2.624512|      3.967285|\n",
            "|281|-0.13664062999999999| -0.5236425849999999|-0.8403027650000001|         2.403869785|         13.60656821|  19.813538825000002|     0.2769815375042543|      24.36746091949614|  0.1759031798320932| 59.37184894610819|                        34|                        14|     -0.205566|      -0.19043|     -0.179199|      -0.16748|     -0.134766|     -0.100098|     -0.046387|     -0.584961|     -0.565918|      -0.54541|     -0.508789|     -0.486816|     -0.480469|     -0.476563|     -0.896484|     -0.880371|      -0.86377|      -0.84668|     -0.833496|     -0.815918|     -0.772949|     -9.765626|      -5.79834|     -4.455567|     -2.075195|      0.976563|      6.164551|      24.96338|     -1.647949|           -0.305176|            1.159668|       2.01416|      5.004883|     10.131837|     59.326175|     -0.671387|      0.732422|      2.502442|     13.671876|     25.878908|     32.592775|      51.69678|\n",
            "|281|         -0.16552005| -0.5134253000000001|-0.8433618350000001|  0.5166626449999998|  12.476807425000002|         26.82769941|    0.27448098669813664|     29.770391409597757| 0.24561020459205243|54.931183066205364|                        38|                        29|     -0.276855|     -0.223633|     -0.194824|      -0.15918|     -0.141113|     -0.106445|     -0.066895|     -0.584961|     -0.566406|     -0.545898|     -0.528809|      -0.50293|     -0.477051|     -0.422852|     -0.926758|     -0.899414|     -0.875977|     -0.855469|     -0.837402|     -0.802734|      -0.75293|    -13.305665|     -9.338379|     -6.530762|      -3.66211|      1.220703|      8.178711|     20.446779|     -4.333496|-0.06103500000000...|            2.136231|      5.371094|      8.117676|     13.183595|     44.128421|      6.896973|     14.648438|     20.690919|     24.536134|      28.62549|     37.658694|     51.025394|\n",
            "|281|         -0.21592779|-0.47742433000000006|-0.8576587050000001|        -4.438171675|  -9.823303789999999| -14.795227985000002|    0.29475134720579366|     18.107909875230412|  0.2908203617068454|101.36605413007135|                        55|                        25|     -0.318359|      -0.27002|     -0.234375|     -0.206055|     -0.174805|     -0.148438|     -0.113281|      -0.54541|     -0.516602|     -0.493652|     -0.483887|     -0.470215|      -0.44873|     -0.394043|     -0.941895|      -0.92041|     -0.902832|     -0.886719|     -0.869141|     -0.846191|     -0.722168|     -36.19385|    -15.197755|     -8.178711|      -3.66211|      1.953125|      8.972169|     22.766115|    -41.809085|          -20.690919|          -11.413575|     -2.563477|       1.77002|      7.873536|      13.48877|    -69.213871|    -43.701175|    -31.005861|     -0.671387|       7.69043|      20.93506|     25.939943|\n",
            "|281|        -0.179897495|        -0.474689945|        -0.86101564|  -6.479797775000001|         -20.9130872|       -33.824159805|    0.30364640310945024|      40.09432101502859| 0.26154859093622695| 82.42935627974643|                        50|                        30|     -0.282227|      -0.22998|     -0.182129|     -0.150391|     -0.132324|     -0.114746|     -0.104004|     -0.527832|     -0.492188|     -0.482422|     -0.473145|     -0.461914|     -0.449219|     -0.438477|     -0.933105|     -0.906738|     -0.890137|     -0.882813|     -0.866699|      -0.84668|      -0.80957|     -36.19385|    -11.718751|     -8.239747|     -6.042481|     -2.502442|      2.380371|     19.592286|    -48.889163|          -30.822756|          -20.874025|    -13.916016|     -8.728028|     -3.112793|      0.366211|    -69.213871|    -44.250491|    -36.010744|    -27.099611|    -21.301271|    -14.831544|    -10.742188|\n",
            "|281|        -0.190481095|         -0.47555607|       -0.860445225|         -1.71440742|          -6.9639744| -7.7549992350000005|    0.30093442219446626|     10.333078572750427| 0.11544250812246692| 36.59504277261255|                        52|                        20|     -0.251699|     -0.237368|      -0.21875|     -0.195313|     -0.180581|     -0.139648|     -0.117676|     -0.499443|     -0.493652|     -0.486328|     -0.480781|     -0.473633|     -0.460938|     -0.442383|     -0.898438|     -0.880249|     -0.868164|     -0.860596|     -0.849609|     -0.833496|     -0.813477|     -8.972169|     -5.981446|     -4.089356|     -1.602173|     -0.613403|      2.111817|       6.45752|    -21.728517|          -10.314942|           -4.638672|     -1.647949|       0.12207|      2.990723|      5.466309|    -25.817873|    -16.479493|    -12.329102|     -8.728028|      2.692871|      4.403687|      6.921387|\n",
            "|281|-0.21456208999999998|-0.49311162499999994|-0.8468429999999999|         0.598007255|  3.0532472600000005|  3.1329103700000007|    0.27792948888205415|       4.65835363164728| 0.06219312265348614|13.647313664392286|                        76|                        55|     -0.246094|     -0.234912|      -0.22563|     -0.214844|     -0.204102|     -0.195313|     -0.182148|     -0.508203|          -0.5|     -0.496094|     -0.491211|     -0.487305|     -0.485352|     -0.481104|     -0.876367|     -0.869531|     -0.860352|     -0.852051|     -0.840728|     -0.827061|     -0.811294|     -4.211426|     -2.319336|     -0.988159|     -0.244141|      1.505127|      4.089356|      5.982666|     -2.319336|            0.488281|            2.258301|      3.259278|      4.089356|      5.429077|       7.56836|     -3.601074|           0.0|      2.319336|      3.415528|      4.537964|      5.981446|     10.136719|\n",
            "|281|        -0.182950645|        -0.500827035|        -0.85161018|-0.24404297999999994|  1.1097504099999997| -1.8464662000000005|    0.28301268776353566|      2.281096618241521| 0.08240338041598208|22.453378704536025|                        58|                        31|     -0.228516|     -0.211631|     -0.201172|     -0.188965|     -0.171875|     -0.158203|     -0.141602|      -0.52002|     -0.512275|     -0.506836|     -0.499512|     -0.493652|      -0.48877|     -0.484043|     -0.883301|     -0.873481|     -0.865723|     -0.853516|     -0.844238|     -0.831055|     -0.816406|     -6.347657|     -4.028321|     -1.953125|     -0.427246|      1.505127|      4.089356|       5.67627|     -6.347657|           -4.638672|           -3.051758|      0.771484|      3.479004|      4.662476|      7.839356|    -13.977052|     -8.361817|     -3.723145|      -0.88501|      0.976563|      3.415528|       7.69043|\n",
            "|281|         -0.17099854|        -0.512673355|        -0.85273682|-0.29846193499999996| -3.8589479950000003|  -5.391235684999999|     0.2817490032434183|      6.422750841812181| 0.09217860964356347|23.674700705209435|                        61|                        43|     -0.206543|     -0.193359|     -0.175781|     -0.165039|     -0.158691|     -0.151855|     -0.138672|     -0.540039|     -0.524414|     -0.518066|     -0.512695|     -0.506836|     -0.501465|     -0.490234|     -0.889648|     -0.870117|      -0.86084|     -0.852051|     -0.841797|     -0.831055|     -0.819824|     -7.263184|     -5.126953|     -3.051758|     -1.220703|      1.403809|      3.234863|      6.774903|    -12.634278|           -7.995606|           -5.920411|     -4.638672|     -3.234863|     -1.708984|      2.929688|    -14.465333|     -9.948731|     -6.835938|     -5.065918|     -3.234863|      -1.89209|           0.0|\n",
            "|281|-0.17820800000000003|         -0.57302982|        -0.79741458|          5.29327424| 0.13793946000000062|        -0.571899425|    0.21039973253356886|      5.309544540669932|  0.2024427685018343| 35.82469947845034|                        34|                        40|     -0.229492|      -0.20752|     -0.197266|     -0.179688|     -0.165039|     -0.155273|      -0.13623|     -0.667969|      -0.64209|     -0.609375|      -0.55127|     -0.526855|      -0.51416|     -0.504395|     -0.870117|     -0.855469|     -0.837402|     -0.818359|      -0.78125|     -0.730957|     -0.692871|     -4.821778|     -2.563477|       0.12207|      2.319336|      4.455567|       9.46045|     15.075685|    -13.610841|           -8.544922|           -5.310059|     -2.136231|     -0.671387|      5.187989|     19.409181|     -9.094239|     -5.493164|     -3.234863|     -1.953125|     -0.244141|      4.516602|     11.047364|\n",
            "|281|-0.19330810499999998| -0.6562719749999999|         -0.7253052|  7.3153691300000006|         9.959412205|         14.69146819|    0.13621525973931423|     19.386448726352363| 0.21745331894782124| 58.25985957524391|                        70|                        35|     -0.282227|     -0.244141|     -0.223145|     -0.202148|     -0.179688|     -0.140625|     -0.088379|     -0.725586|     -0.694824|     -0.679688|     -0.664063|     -0.650879|     -0.634766|     -0.589844|      -0.81543|     -0.761719|      -0.73291|     -0.709961|     -0.691406|     -0.671387|     -0.655273|     -9.277344|     -3.234863|      1.281738|      4.577637|      9.216309|     16.235353|     25.634767|    -12.878419|             -5.5542|            0.244141|      5.981446|     15.991212|     24.536134|     39.794924|     -5.126953|      1.037598|      5.737305|     11.108399|     17.578126|     25.573732|     38.269045|\n",
            "|281|-0.21046387500000002|        -0.621108405|        -0.75377687| -3.8128664249999997|  11.482239475000002|         11.08612132|     0.1549219934581953|     16.659924245117075| 0.27036894014760876| 64.73516563214774|                        48|                        41|      -0.31543|     -0.291992|     -0.257324|     -0.228516|     -0.179688|     -0.137695|     -0.089844|     -0.723633|     -0.689941|     -0.668457|     -0.641602|      -0.61377|      -0.56543|     -0.483887|     -0.864746|     -0.837402|      -0.77832|     -0.736816|     -0.712402|     -0.683594|      -0.65918|    -19.836427|    -12.756348|    -10.070801|     -7.263184|     -4.272461|      2.197266|     18.005372|    -21.728517|           -4.821778|            3.417969|     12.329102|     18.615724|     25.878908|     43.457034|    -18.188478|     -5.737305|      4.577637|     10.314942|     17.883302|     25.573732|     38.269045|\n",
            "|281|         -0.15845216|         -0.52085207|-0.8391626200000001|         -8.20007376|         4.388733175|        -2.637634395|    0.26988155684191356|      9.805413317717717| 0.23838851786156146| 49.32280660176282|                        71|                        59|     -0.294922|     -0.214844|     -0.160645|     -0.132324|     -0.119141|     -0.094238|     -0.066406|     -0.627441|     -0.599121|     -0.541016|     -0.509766|     -0.483398|     -0.458984|     -0.429199|     -0.902832|     -0.879395|      -0.87207|     -0.857422|     -0.842285|     -0.811523|     -0.736816|    -18.859864|    -12.817384|    -10.437012|     -8.850098|     -6.103516|     -3.601074|      1.464844|    -23.132326|          -13.183595|           -4.699707|      4.150391|     13.793946|     19.348146|     29.418947|     -24.71924|    -17.089845|    -10.131837|     -0.183105|      6.652832|     12.023927|      17.02881|\n",
            "|281|-0.11514405999999999|-0.45910399999999996|       -0.888576685| -3.0883791099999995|  0.5392456200000004|  0.5914307000000002|    0.35163043273790856|     3.2872413843940103| 0.13366522726504088| 37.58931179409469|                        92|                        60|     -0.159668|     -0.137695|        -0.125|     -0.116211|     -0.107422|     -0.089844|     -0.075195|     -0.527832|     -0.494141|     -0.470703|      -0.45166|     -0.431152|     -0.416504|     -0.400879|     -0.929688|     -0.918945|     -0.904785|     -0.890625|     -0.876465|      -0.86377|      -0.84668|    -11.108399|     -7.629395|     -5.737305|      -3.78418|     -0.915527|      1.464844|      4.516602|    -19.348146|          -10.742188|           -4.638672|      2.136231|      5.493164|       9.58252|     16.845704|    -18.676759|     -9.155274|     -3.051758|      2.319336|      7.873536|     12.268067|     16.662599|\n",
            "|281|-0.11844483499999998|-0.44152099000000006|-0.8939844100000001|  0.6878662500000001|  3.1463625100000003|  3.2916261699999994|     0.3633099142246457|      4.845794581288511| 0.09200647760216704|25.288561220508306|                        69|                        64|     -0.154297|     -0.138672|     -0.126953|     -0.117676|     -0.107422|     -0.098145|     -0.084961|     -0.478516|     -0.464355|     -0.454102|     -0.439941|     -0.432129|     -0.419922|     -0.403809|     -0.929688|      -0.91748|     -0.904785|      -0.89502|     -0.885742|     -0.874512|     -0.855957|     -5.493164|     -2.380371|     -0.915527|      0.427246|      2.075195|      3.967285|      6.958008|    -10.925294|           -4.455567|-0.36621100000000006|      3.601074|      6.774903|      9.765626|     15.869142|     -4.699707|     -2.258301|      0.915527|      2.624512|      6.347657|      8.911133|     12.634278|\n",
            "+---+--------------------+--------------------+-------------------+--------------------+--------------------+--------------------+-----------------------+-----------------------+--------------------+------------------+--------------------------+--------------------------+--------------+--------------+--------------+--------------+--------------+--------------+--------------+--------------+--------------+--------------+--------------+--------------+--------------+--------------+--------------+--------------+--------------+--------------+--------------+--------------+--------------+--------------+--------------+--------------+--------------+--------------+--------------+--------------+--------------+--------------------+--------------------+--------------+--------------+--------------+--------------+--------------+--------------+--------------+--------------+--------------+--------------+--------------+\n",
            "only showing top 20 rows\n",
            "\n"
          ]
        }
      ],
      "source": [
        "# Segmentation Neck sensors\n",
        "\n",
        "# Intervals of 2 seconds\n",
        "window_size = 200\n",
        "# Overlap of 1 second\n",
        "step_size = 100\n",
        "\n",
        "# Make use of RDD\n",
        "rdd = data_neck.rdd\n",
        "\n",
        "# Group the data by key (DogID + TestNr)\n",
        "grouped_rdd = rdd.groupBy(lambda x: x[9])\n",
        "\n",
        "# Initialize all of the functions\n",
        "features_rdd = grouped_rdd.flatMap(key_segments)\n",
        "\n",
        "# Create new DataFrame using the segmented data\n",
        "segmented_data_Neck = spark.createDataFrame(features_rdd, schema=[\"ID\", \"mean_ANeck_x\", \"mean_ANeck_y\", \"mean_ANeck_z\", \"mean_GNeck_x\", \"mean_GNeck_y\", \"mean_GNeck_z\",\n",
        "    \"positional_offset_ANeck\", \"positional_offset_GNeck\", \"sum_std_dev_ANeck\", \"sum_std_dev_GNeck\", \"total_mean_crossings_ANeck\", \"total_mean_crossings_GNeck\",\n",
        "    \"ecdf_ANeck_x_1\", \"ecdf_ANeck_x_2\", \"ecdf_ANeck_x_3\", \"ecdf_ANeck_x_4\", \"ecdf_ANeck_x_5\", \"ecdf_ANeck_x_6\", \"ecdf_ANeck_x_7\",\n",
        "    \"ecdf_ANeck_y_1\", \"ecdf_ANeck_y_2\", \"ecdf_ANeck_y_3\", \"ecdf_ANeck_y_4\", \"ecdf_ANeck_y_5\", \"ecdf_ANeck_y_6\", \"ecdf_ANeck_y_7\",\n",
        "    \"ecdf_ANeck_z_1\", \"ecdf_ANeck_z_2\", \"ecdf_ANeck_z_3\", \"ecdf_ANeck_z_4\", \"ecdf_ANeck_z_5\", \"ecdf_ANeck_z_6\", \"ecdf_ANeck_z_7\",\n",
        "    \"ecdf_GNeck_x_1\", \"ecdf_GNeck_x_2\", \"ecdf_GNeck_x_3\", \"ecdf_GNeck_x_4\", \"ecdf_GNeck_x_5\", \"ecdf_GNeck_x_6\", \"ecdf_GNeck_x_7\",\n",
        "    \"ecdf_GNeck_y_1\", \"ecdf_GNeck_y_2\", \"ecdf_GNeck_y_3\", \"ecdf_GNeck_y_4\", \"ecdf_GNeck_y_5\", \"ecdf_GNeck_y_6\", \"ecdf_GNeck_y_7\",\n",
        "    \"ecdf_GNeck_z_1\", \"ecdf_GNeck_z_2\", \"ecdf_GNeck_z_3\", \"ecdf_GNeck_z_4\", \"ecdf_GNeck_z_5\", \"ecdf_GNeck_z_6\", \"ecdf_GNeck_z_7\"])\n",
        "\n",
        "segmented_data_Neck.show()"
      ]
    },
    {
      "cell_type": "code",
      "execution_count": null,
      "metadata": {
        "id": "g8TuYxJlXR8w"
      },
      "outputs": [],
      "source": [
        "# Export the new segmented data\n",
        "segmented_data_Neck_1file = segmented_data_Neck.coalesce(1)\n",
        "segmented_data_Neck_1file.write.csv(\"/content/drive/MyDrive/data2\", header=True, mode=\"append\")"
      ]
    }
  ],
  "metadata": {
    "accelerator": "GPU",
    "colab": {
      "gpuType": "T4",
      "provenance": []
    },
    "kernelspec": {
      "display_name": "Python 3 (ipykernel)",
      "language": "python",
      "name": "python3"
    },
    "language_info": {
      "codemirror_mode": {
        "name": "ipython",
        "version": 3
      },
      "file_extension": ".py",
      "mimetype": "text/x-python",
      "name": "python",
      "nbconvert_exporter": "python",
      "pygments_lexer": "ipython3",
      "version": "3.12.7"
    }
  },
  "nbformat": 4,
  "nbformat_minor": 0
}